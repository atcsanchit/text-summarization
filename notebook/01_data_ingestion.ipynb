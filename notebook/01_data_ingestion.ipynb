{
 "cells": [
  {
   "cell_type": "code",
   "execution_count": 3,
   "id": "a2894530-a1c8-47c4-980a-1968fbab92af",
   "metadata": {},
   "outputs": [],
   "source": [
    "import os\n",
    "import urllib.request as request\n",
    "import zipfile"
   ]
  },
  {
   "cell_type": "code",
   "execution_count": 5,
   "id": "3ef34e8a-f326-4433-b20e-020024fae7dc",
   "metadata": {},
   "outputs": [],
   "source": [
    "class DataIngestion:\n",
    "    def __init__(self):\n",
    "        self.local_data_file = \"../artifacts/data_ingestion/data.zip\"\n",
    "        self.source_URL = \"https://github.com/entbappy/Branching-tutorial/raw/master/summarizer-data.zip\"\n",
    "        self.unzip_dir = \"../artifacts/data_ingestion\"\n",
    "        # self.config = config\n",
    "\n",
    "    def download_file(self):\n",
    "        if not os.path.exists(self.local_data_file):\n",
    "            os.makedirs(os.path.dirname(self.local_data_file), exist_ok=True)\n",
    "            filename, headers = request.urlretrieve(\n",
    "                url = self.source_URL,\n",
    "                filename = self.local_data_file\n",
    "            )\n",
    "            # logger.info(f\"{filename} download! with following info: \\n{headers}\")\n",
    "        # else:\n",
    "            # logger.info(f\"File already exists of size: {get_size(Path(self.config.local_data_file))}\")\n",
    "\n",
    "    def extract_zip_file(self):\n",
    "        \"\"\"\n",
    "        zip_file_path: str\n",
    "        Extracts the zip file into the data directory\n",
    "        Function returns None\n",
    "        \"\"\"\n",
    "        unzip_path = self.unzip_dir\n",
    "        os.makedirs(unzip_path, exist_ok=True)\n",
    "        with zipfile.ZipFile(self.local_data_file, 'r') as zip_ref:\n",
    "            zip_ref.extractall(unzip_path)"
   ]
  },
  {
   "cell_type": "code",
   "execution_count": 7,
   "id": "aca50884-60e0-4392-8580-5201ea382ff2",
   "metadata": {},
   "outputs": [],
   "source": [
    "data_ingestion_obj = DataIngestion()\n",
    "data_ingestion_obj.download_file()\n",
    "data_ingestion_obj.extract_zip_file()"
   ]
  },
  {
   "cell_type": "code",
   "execution_count": null,
   "id": "8207802c-b72c-414a-8ca8-5be0c08e7c96",
   "metadata": {},
   "outputs": [],
   "source": []
  }
 ],
 "metadata": {
  "kernelspec": {
   "display_name": "Python 3 (ipykernel)",
   "language": "python",
   "name": "python3"
  },
  "language_info": {
   "codemirror_mode": {
    "name": "ipython",
    "version": 3
   },
   "file_extension": ".py",
   "mimetype": "text/x-python",
   "name": "python",
   "nbconvert_exporter": "python",
   "pygments_lexer": "ipython3",
   "version": "3.12.4"
  }
 },
 "nbformat": 4,
 "nbformat_minor": 5
}
