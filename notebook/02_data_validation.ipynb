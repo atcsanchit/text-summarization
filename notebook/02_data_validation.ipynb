{
 "cells": [
  {
   "cell_type": "code",
   "execution_count": 1,
   "id": "29142cc1-985c-435e-a46c-9205d391edae",
   "metadata": {},
   "outputs": [],
   "source": [
    "import os"
   ]
  },
  {
   "cell_type": "code",
   "execution_count": 29,
   "id": "71b60161-f3dc-49f7-8f66-02a63ecaed00",
   "metadata": {},
   "outputs": [],
   "source": [
    "class DataValidation:\n",
    "    def __init__(self):\n",
    "        self.all_required_files = [\"train\",\"test\",\"validation\"]\n",
    "        self.status_file = \"../artifacts/data_validation/status.txt\"\n",
    "\n",
    "    def validate_all_file_exist(self)-> bool:\n",
    "        validation_status = None\n",
    "        all_files = os.listdir(os.path.join(\"../artifacts\",\"data_ingestion\",\"samsum_dataset\"))\n",
    "        os.makedirs(os.path.dirname(self.status_file), exist_ok=True)\n",
    "\n",
    "        for file in all_files:\n",
    "            if file not in self.all_required_files:\n",
    "                validation_status = False\n",
    "                # with open(self.status_file,\"w\") as f:\n",
    "                #     f.write(f\"validation_status: {validation_status}\")\n",
    "            else:\n",
    "                validation_status = True\n",
    "                # with open(self.status_file,\"w\") as f:\n",
    "                #     f.write(f\"validation_status: {validation_status}\")\n",
    "\n",
    "        return validation_status"
   ]
  },
  {
   "cell_type": "code",
   "execution_count": 31,
   "id": "8f3dbbb4-1be6-41fd-8f34-e65718886f61",
   "metadata": {},
   "outputs": [
    {
     "data": {
      "text/plain": [
       "True"
      ]
     },
     "execution_count": 31,
     "metadata": {},
     "output_type": "execute_result"
    }
   ],
   "source": [
    "data_validation_obj = DataValidation()\n",
    "data_validation_obj.validate_all_file_exist()"
   ]
  },
  {
   "cell_type": "code",
   "execution_count": null,
   "id": "9e548b98-67d8-4aff-ae67-84f63432ac5a",
   "metadata": {},
   "outputs": [],
   "source": []
  }
 ],
 "metadata": {
  "kernelspec": {
   "display_name": "Python 3 (ipykernel)",
   "language": "python",
   "name": "python3"
  },
  "language_info": {
   "codemirror_mode": {
    "name": "ipython",
    "version": 3
   },
   "file_extension": ".py",
   "mimetype": "text/x-python",
   "name": "python",
   "nbconvert_exporter": "python",
   "pygments_lexer": "ipython3",
   "version": "3.12.4"
  }
 },
 "nbformat": 4,
 "nbformat_minor": 5
}
